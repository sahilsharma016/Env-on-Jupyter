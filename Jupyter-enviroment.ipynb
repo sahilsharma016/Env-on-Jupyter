{
 "cells": [
  {
   "cell_type": "code",
   "execution_count": 4,
   "id": "d7fda47a",
   "metadata": {},
   "outputs": [],
   "source": [
    "#RUN all these in  CMD\n",
    "\n",
    "python --version"
   ]
  },
  {
   "cell_type": "markdown",
   "id": "10cc3b37",
   "metadata": {},
   "source": [
    "**Install venv inside the Docker container:**"
   ]
  },
  {
   "cell_type": "code",
   "execution_count": null,
   "id": "962d0aa1",
   "metadata": {},
   "outputs": [],
   "source": [
    "apt-get update\n",
    "\n",
    "# make venv in python3 on existing py version\n",
    "apt-get install -y python3-venv\n"
   ]
  },
  {
   "cell_type": "code",
   "execution_count": null,
   "id": "ecfe2c32",
   "metadata": {},
   "outputs": [],
   "source": [
    "python3 -m venv /workspace/myenv\n"
   ]
  },
  {
   "cell_type": "code",
   "execution_count": null,
   "id": "41c73f18",
   "metadata": {},
   "outputs": [],
   "source": [
    "source /workspace/myenv/bin/activate\n"
   ]
  },
  {
   "cell_type": "markdown",
   "id": "61cc3cfa",
   "metadata": {},
   "source": [
    "**Inside a Custom Subdirectory**\n",
    "\n",
    "\n",
    "**If you want to keep things organized, you can create a new directory specifically for virtual environments.**"
   ]
  },
  {
   "cell_type": "code",
   "execution_count": null,
   "id": "c96ba021",
   "metadata": {},
   "outputs": [],
   "source": [
    "mkdir /workspace/venvs\n",
    "python3 -m venv /workspace/venvs/myenv\n"
   ]
  },
  {
   "cell_type": "code",
   "execution_count": null,
   "id": "c77428a0",
   "metadata": {},
   "outputs": [],
   "source": [
    "source /workspace/venvs/myenv/bin/activate\n"
   ]
  }
 ],
 "metadata": {
  "kernelspec": {
   "display_name": "Python 3 (ipykernel)",
   "language": "python",
   "name": "python3"
  },
  "language_info": {
   "codemirror_mode": {
    "name": "ipython",
    "version": 3
   },
   "file_extension": ".py",
   "mimetype": "text/x-python",
   "name": "python",
   "nbconvert_exporter": "python",
   "pygments_lexer": "ipython3",
   "version": "3.10.12"
  }
 },
 "nbformat": 4,
 "nbformat_minor": 5
}
