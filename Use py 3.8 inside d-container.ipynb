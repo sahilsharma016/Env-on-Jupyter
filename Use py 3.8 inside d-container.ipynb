{
 "cells": [
  {
   "cell_type": "code",
   "execution_count": 4,
   "id": "241c5c84",
   "metadata": {},
   "outputs": [],
   "source": [
    "#RUN all these in  CMD\n",
    "\n",
    "python --version"
   ]
  },
  {
   "cell_type": "markdown",
   "id": "a0f322df",
   "metadata": {},
   "source": [
    "**Install venv inside the Docker container:**"
   ]
  },
  {
   "cell_type": "code",
   "execution_count": null,
   "id": "dfbb31e4",
   "metadata": {},
   "outputs": [],
   "source": [
    "apt-get update\n",
    "\n",
    "# make venv in python3 on existing py version\n",
    "apt-get install -y python3-venv\n"
   ]
  },
  {
   "cell_type": "code",
   "execution_count": null,
   "id": "c5b93ee7",
   "metadata": {},
   "outputs": [],
   "source": [
    "python3 -m venv /workspace/myenv\n"
   ]
  },
  {
   "cell_type": "code",
   "execution_count": null,
   "id": "e53af6ab",
   "metadata": {},
   "outputs": [],
   "source": [
    "source /workspace/myenv/bin/activate\n"
   ]
  },
  {
   "cell_type": "markdown",
   "id": "fd8feb2a",
   "metadata": {},
   "source": [
    "**Inside a Custom Subdirectory**\n",
    "\n",
    "\n",
    "**If you want to keep things organized, you can create a new directory specifically for virtual environments.**"
   ]
  },
  {
   "cell_type": "code",
   "execution_count": null,
   "id": "25d951a4",
   "metadata": {},
   "outputs": [],
   "source": [
    "mkdir /workspace/venvs\n",
    "python3 -m venv /workspace/venvs/myenv\n"
   ]
  },
  {
   "cell_type": "code",
   "execution_count": null,
   "id": "8aee0e98",
   "metadata": {},
   "outputs": [],
   "source": [
    "source /workspace/venvs/myenv/bin/activate\n"
   ]
  },
  {
   "cell_type": "code",
   "execution_count": null,
   "id": "a9b7f608",
   "metadata": {},
   "outputs": [],
   "source": []
  },
  {
   "cell_type": "markdown",
   "id": "bddb6ade",
   "metadata": {},
   "source": [
    "**How to use python 3.8 inside Docker container with py 3.10 already installed**"
   ]
  },
  {
   "cell_type": "code",
   "execution_count": 6,
   "id": "8a40cd96",
   "metadata": {},
   "outputs": [],
   "source": [
    "# Run this on cmd\n",
    "apt-get update\n",
    "apt-get install -y software-properties-common\n",
    "add-apt-repository ppa:deadsnakes/ppa\n",
    "apt-get update\n"
   ]
  },
  {
   "cell_type": "code",
   "execution_count": null,
   "id": "90449d08",
   "metadata": {},
   "outputs": [],
   "source": [
    "# if face error then skip this step\n",
    "apt-get install -y python3.8 python3.8-venv python3.8-distutils\n"
   ]
  },
  {
   "cell_type": "markdown",
   "id": "668567cb",
   "metadata": {},
   "source": [
    "**Create a Virtual Environment**"
   ]
  },
  {
   "cell_type": "code",
   "execution_count": null,
   "id": "c9b75322",
   "metadata": {},
   "outputs": [],
   "source": [
    "python3.8 -m venv /path/to/py38-env\n"
   ]
  },
  {
   "cell_type": "markdown",
   "id": "c42aa09a",
   "metadata": {},
   "source": [
    "**Activate V-ENV**"
   ]
  },
  {
   "cell_type": "code",
   "execution_count": null,
   "id": "2715ec62",
   "metadata": {},
   "outputs": [],
   "source": [
    "source /path/to/py38-env/bin/activate\n",
    "\n",
    "# like this one\n",
    "source /workspace/py38-env/bin/activate\n",
    "\n",
    "# my working path is \" root@dgxa1001:/workspace# \"\n"
   ]
  },
  {
   "cell_type": "markdown",
   "id": "f3896d28",
   "metadata": {},
   "source": [
    "**Now should look like this**\n",
    "\n",
    "\n",
    "(py38-env) root@dgxa1001:/workspace#\n"
   ]
  },
  {
   "cell_type": "code",
   "execution_count": null,
   "id": "b8718d5e",
   "metadata": {},
   "outputs": [],
   "source": [
    "python --version\n"
   ]
  },
  {
   "cell_type": "markdown",
   "id": "a594b086",
   "metadata": {},
   "source": [
    "**Deactivate ENV**"
   ]
  },
  {
   "cell_type": "code",
   "execution_count": null,
   "id": "19e0289c",
   "metadata": {},
   "outputs": [],
   "source": [
    "deactivate\n"
   ]
  }
 ],
 "metadata": {
  "kernelspec": {
   "display_name": "Python 3 (ipykernel)",
   "language": "python",
   "name": "python3"
  },
  "language_info": {
   "codemirror_mode": {
    "name": "ipython",
    "version": 3
   },
   "file_extension": ".py",
   "mimetype": "text/x-python",
   "name": "python",
   "nbconvert_exporter": "python",
   "pygments_lexer": "ipython3",
   "version": "3.10.12"
  }
 },
 "nbformat": 4,
 "nbformat_minor": 5
}
